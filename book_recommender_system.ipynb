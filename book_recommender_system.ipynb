{
  "cells": [
    {
      "cell_type": "code",
      "execution_count": null,
      "id": "4414f6bd",
      "metadata": {
        "id": "4414f6bd"
      },
      "outputs": [],
      "source": [
        "import numpy as np\n",
        "import pandas as pd"
      ]
    },
    {
      "cell_type": "code",
      "execution_count": null,
      "id": "94923046",
      "metadata": {
        "id": "94923046",
        "colab": {
          "base_uri": "https://localhost:8080/",
          "height": 252
        },
        "outputId": "1b7d0136-251e-41a2-9a28-1d42be61f9eb"
      },
      "outputs": [
        {
          "output_type": "error",
          "ename": "ParserError",
          "evalue": "Error tokenizing data. C error: EOF inside string starting at row 27281",
          "traceback": [
            "\u001b[0;31m---------------------------------------------------------------------------\u001b[0m",
            "\u001b[0;31mParserError\u001b[0m                               Traceback (most recent call last)",
            "\u001b[0;32m<ipython-input-2-959258f74aed>\u001b[0m in \u001b[0;36m<cell line: 3>\u001b[0;34m()\u001b[0m\n\u001b[1;32m      1\u001b[0m \u001b[0mbooks\u001b[0m \u001b[0;34m=\u001b[0m \u001b[0mpd\u001b[0m\u001b[0;34m.\u001b[0m\u001b[0mread_csv\u001b[0m\u001b[0;34m(\u001b[0m\u001b[0;34m'Books.csv'\u001b[0m\u001b[0;34m)\u001b[0m\u001b[0;34m\u001b[0m\u001b[0;34m\u001b[0m\u001b[0m\n\u001b[1;32m      2\u001b[0m \u001b[0;34m\u001b[0m\u001b[0m\n\u001b[0;32m----> 3\u001b[0;31m \u001b[0musers\u001b[0m \u001b[0;34m=\u001b[0m \u001b[0mpd\u001b[0m\u001b[0;34m.\u001b[0m\u001b[0mread_csv\u001b[0m\u001b[0;34m(\u001b[0m\u001b[0;34m'Users.csv'\u001b[0m\u001b[0;34m)\u001b[0m\u001b[0;34m\u001b[0m\u001b[0;34m\u001b[0m\u001b[0m\n\u001b[0m\u001b[1;32m      4\u001b[0m \u001b[0mratings\u001b[0m \u001b[0;34m=\u001b[0m \u001b[0mpd\u001b[0m\u001b[0;34m.\u001b[0m\u001b[0mread_csv\u001b[0m\u001b[0;34m(\u001b[0m\u001b[0;34m'Ratings.csv'\u001b[0m\u001b[0;34m)\u001b[0m\u001b[0;34m\u001b[0m\u001b[0;34m\u001b[0m\u001b[0m\n",
            "\u001b[0;32m/usr/local/lib/python3.10/dist-packages/pandas/io/parsers/readers.py\u001b[0m in \u001b[0;36mread_csv\u001b[0;34m(filepath_or_buffer, sep, delimiter, header, names, index_col, usecols, dtype, engine, converters, true_values, false_values, skipinitialspace, skiprows, skipfooter, nrows, na_values, keep_default_na, na_filter, verbose, skip_blank_lines, parse_dates, infer_datetime_format, keep_date_col, date_parser, date_format, dayfirst, cache_dates, iterator, chunksize, compression, thousands, decimal, lineterminator, quotechar, quoting, doublequote, escapechar, comment, encoding, encoding_errors, dialect, on_bad_lines, delim_whitespace, low_memory, memory_map, float_precision, storage_options, dtype_backend)\u001b[0m\n\u001b[1;32m    910\u001b[0m     \u001b[0mkwds\u001b[0m\u001b[0;34m.\u001b[0m\u001b[0mupdate\u001b[0m\u001b[0;34m(\u001b[0m\u001b[0mkwds_defaults\u001b[0m\u001b[0;34m)\u001b[0m\u001b[0;34m\u001b[0m\u001b[0;34m\u001b[0m\u001b[0m\n\u001b[1;32m    911\u001b[0m \u001b[0;34m\u001b[0m\u001b[0m\n\u001b[0;32m--> 912\u001b[0;31m     \u001b[0;32mreturn\u001b[0m \u001b[0m_read\u001b[0m\u001b[0;34m(\u001b[0m\u001b[0mfilepath_or_buffer\u001b[0m\u001b[0;34m,\u001b[0m \u001b[0mkwds\u001b[0m\u001b[0;34m)\u001b[0m\u001b[0;34m\u001b[0m\u001b[0;34m\u001b[0m\u001b[0m\n\u001b[0m\u001b[1;32m    913\u001b[0m \u001b[0;34m\u001b[0m\u001b[0m\n\u001b[1;32m    914\u001b[0m \u001b[0;34m\u001b[0m\u001b[0m\n",
            "\u001b[0;32m/usr/local/lib/python3.10/dist-packages/pandas/io/parsers/readers.py\u001b[0m in \u001b[0;36m_read\u001b[0;34m(filepath_or_buffer, kwds)\u001b[0m\n\u001b[1;32m    581\u001b[0m \u001b[0;34m\u001b[0m\u001b[0m\n\u001b[1;32m    582\u001b[0m     \u001b[0;32mwith\u001b[0m \u001b[0mparser\u001b[0m\u001b[0;34m:\u001b[0m\u001b[0;34m\u001b[0m\u001b[0;34m\u001b[0m\u001b[0m\n\u001b[0;32m--> 583\u001b[0;31m         \u001b[0;32mreturn\u001b[0m \u001b[0mparser\u001b[0m\u001b[0;34m.\u001b[0m\u001b[0mread\u001b[0m\u001b[0;34m(\u001b[0m\u001b[0mnrows\u001b[0m\u001b[0;34m)\u001b[0m\u001b[0;34m\u001b[0m\u001b[0;34m\u001b[0m\u001b[0m\n\u001b[0m\u001b[1;32m    584\u001b[0m \u001b[0;34m\u001b[0m\u001b[0m\n\u001b[1;32m    585\u001b[0m \u001b[0;34m\u001b[0m\u001b[0m\n",
            "\u001b[0;32m/usr/local/lib/python3.10/dist-packages/pandas/io/parsers/readers.py\u001b[0m in \u001b[0;36mread\u001b[0;34m(self, nrows)\u001b[0m\n\u001b[1;32m   1702\u001b[0m                     \u001b[0mcolumns\u001b[0m\u001b[0;34m,\u001b[0m\u001b[0;34m\u001b[0m\u001b[0;34m\u001b[0m\u001b[0m\n\u001b[1;32m   1703\u001b[0m                     \u001b[0mcol_dict\u001b[0m\u001b[0;34m,\u001b[0m\u001b[0;34m\u001b[0m\u001b[0;34m\u001b[0m\u001b[0m\n\u001b[0;32m-> 1704\u001b[0;31m                 \u001b[0;34m)\u001b[0m \u001b[0;34m=\u001b[0m \u001b[0mself\u001b[0m\u001b[0;34m.\u001b[0m\u001b[0m_engine\u001b[0m\u001b[0;34m.\u001b[0m\u001b[0mread\u001b[0m\u001b[0;34m(\u001b[0m  \u001b[0;31m# type: ignore[attr-defined]\u001b[0m\u001b[0;34m\u001b[0m\u001b[0;34m\u001b[0m\u001b[0m\n\u001b[0m\u001b[1;32m   1705\u001b[0m                     \u001b[0mnrows\u001b[0m\u001b[0;34m\u001b[0m\u001b[0;34m\u001b[0m\u001b[0m\n\u001b[1;32m   1706\u001b[0m                 )\n",
            "\u001b[0;32m/usr/local/lib/python3.10/dist-packages/pandas/io/parsers/c_parser_wrapper.py\u001b[0m in \u001b[0;36mread\u001b[0;34m(self, nrows)\u001b[0m\n\u001b[1;32m    232\u001b[0m         \u001b[0;32mtry\u001b[0m\u001b[0;34m:\u001b[0m\u001b[0;34m\u001b[0m\u001b[0;34m\u001b[0m\u001b[0m\n\u001b[1;32m    233\u001b[0m             \u001b[0;32mif\u001b[0m \u001b[0mself\u001b[0m\u001b[0;34m.\u001b[0m\u001b[0mlow_memory\u001b[0m\u001b[0;34m:\u001b[0m\u001b[0;34m\u001b[0m\u001b[0;34m\u001b[0m\u001b[0m\n\u001b[0;32m--> 234\u001b[0;31m                 \u001b[0mchunks\u001b[0m \u001b[0;34m=\u001b[0m \u001b[0mself\u001b[0m\u001b[0;34m.\u001b[0m\u001b[0m_reader\u001b[0m\u001b[0;34m.\u001b[0m\u001b[0mread_low_memory\u001b[0m\u001b[0;34m(\u001b[0m\u001b[0mnrows\u001b[0m\u001b[0;34m)\u001b[0m\u001b[0;34m\u001b[0m\u001b[0;34m\u001b[0m\u001b[0m\n\u001b[0m\u001b[1;32m    235\u001b[0m                 \u001b[0;31m# destructive to chunks\u001b[0m\u001b[0;34m\u001b[0m\u001b[0;34m\u001b[0m\u001b[0m\n\u001b[1;32m    236\u001b[0m                 \u001b[0mdata\u001b[0m \u001b[0;34m=\u001b[0m \u001b[0m_concatenate_chunks\u001b[0m\u001b[0;34m(\u001b[0m\u001b[0mchunks\u001b[0m\u001b[0;34m)\u001b[0m\u001b[0;34m\u001b[0m\u001b[0;34m\u001b[0m\u001b[0m\n",
            "\u001b[0;32m/usr/local/lib/python3.10/dist-packages/pandas/_libs/parsers.pyx\u001b[0m in \u001b[0;36mpandas._libs.parsers.TextReader.read_low_memory\u001b[0;34m()\u001b[0m\n",
            "\u001b[0;32m/usr/local/lib/python3.10/dist-packages/pandas/_libs/parsers.pyx\u001b[0m in \u001b[0;36mpandas._libs.parsers.TextReader._read_rows\u001b[0;34m()\u001b[0m\n",
            "\u001b[0;32m/usr/local/lib/python3.10/dist-packages/pandas/_libs/parsers.pyx\u001b[0m in \u001b[0;36mpandas._libs.parsers.TextReader._tokenize_rows\u001b[0;34m()\u001b[0m\n",
            "\u001b[0;32m/usr/local/lib/python3.10/dist-packages/pandas/_libs/parsers.pyx\u001b[0m in \u001b[0;36mpandas._libs.parsers.TextReader._check_tokenize_status\u001b[0;34m()\u001b[0m\n",
            "\u001b[0;32m/usr/local/lib/python3.10/dist-packages/pandas/_libs/parsers.pyx\u001b[0m in \u001b[0;36mpandas._libs.parsers.raise_parser_error\u001b[0;34m()\u001b[0m\n",
            "\u001b[0;31mParserError\u001b[0m: Error tokenizing data. C error: EOF inside string starting at row 27281"
          ]
        }
      ],
      "source": [
        "books = pd.read_csv('Books.csv')\n",
        "\n",
        "users = pd.read_csv('Users.csv')\n",
        "ratings = pd.read_csv('Ratings.csv')\n"
      ]
    },
    {
      "cell_type": "code",
      "execution_count": null,
      "id": "c8afc553",
      "metadata": {
        "id": "c8afc553",
        "outputId": "12f87b0f-69d8-4fe7-93af-cc74107f7dc2",
        "colab": {
          "base_uri": "https://localhost:8080/",
          "height": 141
        }
      },
      "outputs": [
        {
          "output_type": "error",
          "ename": "NameError",
          "evalue": "name 'books' is not defined",
          "traceback": [
            "\u001b[0;31m---------------------------------------------------------------------------\u001b[0m",
            "\u001b[0;31mNameError\u001b[0m                                 Traceback (most recent call last)",
            "\u001b[0;32m<ipython-input-7-101f9cdf94ae>\u001b[0m in \u001b[0;36m<cell line: 1>\u001b[0;34m()\u001b[0m\n\u001b[0;32m----> 1\u001b[0;31m \u001b[0mbooks\u001b[0m\u001b[0;34m[\u001b[0m\u001b[0;34m'Image-URL-M'\u001b[0m\u001b[0;34m]\u001b[0m\u001b[0;34m[\u001b[0m\u001b[0;36m1\u001b[0m\u001b[0;34m]\u001b[0m\u001b[0;34m\u001b[0m\u001b[0;34m\u001b[0m\u001b[0m\n\u001b[0m",
            "\u001b[0;31mNameError\u001b[0m: name 'books' is not defined"
          ]
        }
      ],
      "source": [
        "books['Image-URL-M'][1]"
      ]
    },
    {
      "cell_type": "code",
      "execution_count": null,
      "id": "5fd4dc69",
      "metadata": {
        "id": "5fd4dc69"
      },
      "outputs": [],
      "source": [
        "users.head()"
      ]
    },
    {
      "cell_type": "code",
      "execution_count": null,
      "id": "690238f5",
      "metadata": {
        "id": "690238f5",
        "colab": {
          "base_uri": "https://localhost:8080/",
          "height": 141
        },
        "outputId": "4c0fc4e0-aed4-4570-a83d-6c14f8b12856"
      },
      "outputs": [
        {
          "output_type": "error",
          "ename": "NameError",
          "evalue": "name 'ratings' is not defined",
          "traceback": [
            "\u001b[0;31m---------------------------------------------------------------------------\u001b[0m",
            "\u001b[0;31mNameError\u001b[0m                                 Traceback (most recent call last)",
            "\u001b[0;32m<ipython-input-5-a5d1d4105667>\u001b[0m in \u001b[0;36m<cell line: 1>\u001b[0;34m()\u001b[0m\n\u001b[0;32m----> 1\u001b[0;31m \u001b[0mratings\u001b[0m\u001b[0;34m.\u001b[0m\u001b[0mhead\u001b[0m\u001b[0;34m(\u001b[0m\u001b[0;34m)\u001b[0m\u001b[0;34m\u001b[0m\u001b[0;34m\u001b[0m\u001b[0m\n\u001b[0m",
            "\u001b[0;31mNameError\u001b[0m: name 'ratings' is not defined"
          ]
        }
      ],
      "source": [
        "ratings.head()"
      ]
    },
    {
      "cell_type": "code",
      "execution_count": null,
      "id": "276d0dab",
      "metadata": {
        "id": "276d0dab"
      },
      "outputs": [],
      "source": [
        "print(books.shape)\n",
        "print(ratings.shape)\n",
        "print(users.shape)"
      ]
    },
    {
      "cell_type": "code",
      "execution_count": null,
      "id": "269b86e1",
      "metadata": {
        "id": "269b86e1"
      },
      "outputs": [],
      "source": [
        "books.isnull().sum()"
      ]
    },
    {
      "cell_type": "code",
      "execution_count": null,
      "id": "35060ccd",
      "metadata": {
        "id": "35060ccd"
      },
      "outputs": [],
      "source": [
        "users.isnull().sum()"
      ]
    },
    {
      "cell_type": "code",
      "execution_count": null,
      "id": "b89899aa",
      "metadata": {
        "id": "b89899aa"
      },
      "outputs": [],
      "source": [
        "ratings.isnull().sum()"
      ]
    },
    {
      "cell_type": "code",
      "execution_count": null,
      "id": "16410edc",
      "metadata": {
        "id": "16410edc"
      },
      "outputs": [],
      "source": [
        "books.duplicated().sum()"
      ]
    },
    {
      "cell_type": "code",
      "execution_count": null,
      "id": "66adac61",
      "metadata": {
        "id": "66adac61"
      },
      "outputs": [],
      "source": [
        "ratings.duplicated().sum()"
      ]
    },
    {
      "cell_type": "code",
      "execution_count": null,
      "id": "3f1b11a5",
      "metadata": {
        "id": "3f1b11a5"
      },
      "outputs": [],
      "source": [
        "users.duplicated().sum()"
      ]
    },
    {
      "cell_type": "markdown",
      "id": "46d4719f",
      "metadata": {
        "id": "46d4719f"
      },
      "source": [
        "## Popularity Based Recommender System"
      ]
    },
    {
      "cell_type": "code",
      "execution_count": null,
      "id": "cce41232",
      "metadata": {
        "id": "cce41232"
      },
      "outputs": [],
      "source": [
        "ratings_with_name = ratings.merge(books,on='ISBN')"
      ]
    },
    {
      "cell_type": "code",
      "execution_count": null,
      "id": "af8925a6",
      "metadata": {
        "id": "af8925a6"
      },
      "outputs": [],
      "source": [
        "num_rating_df = ratings_with_name.groupby('Book-Title').count()['Book-Rating'].reset_index()\n",
        "num_rating_df.rename(columns={'Book-Rating':'num_ratings'},inplace=True)\n",
        "num_rating_df"
      ]
    },
    {
      "cell_type": "code",
      "execution_count": null,
      "id": "db1b0fd4",
      "metadata": {
        "id": "db1b0fd4"
      },
      "outputs": [],
      "source": [
        "avg_rating_df = ratings_with_name.groupby('Book-Title')['Book-Rating'].mean().reset_index()\n",
        "avg_rating_df.rename(columns={'Book-Rating':'avg_rating'},inplace=True)\n",
        "avg_rating_df"
      ]
    },
    {
      "cell_type": "code",
      "execution_count": null,
      "id": "2524096d",
      "metadata": {
        "id": "2524096d",
        "colab": {
          "base_uri": "https://localhost:8080/",
          "height": 158
        },
        "outputId": "fc33c7d5-b5fc-4821-8302-9729d5564546"
      },
      "outputs": [
        {
          "output_type": "error",
          "ename": "NameError",
          "evalue": "name 'num_rating_df' is not defined",
          "traceback": [
            "\u001b[0;31m---------------------------------------------------------------------------\u001b[0m",
            "\u001b[0;31mNameError\u001b[0m                                 Traceback (most recent call last)",
            "\u001b[0;32m<ipython-input-6-8d336f7732c9>\u001b[0m in \u001b[0;36m<cell line: 1>\u001b[0;34m()\u001b[0m\n\u001b[0;32m----> 1\u001b[0;31m \u001b[0mpopular_df\u001b[0m \u001b[0;34m=\u001b[0m \u001b[0mnum_rating_df\u001b[0m\u001b[0;34m.\u001b[0m\u001b[0mmerge\u001b[0m\u001b[0;34m(\u001b[0m\u001b[0mavg_rating_df\u001b[0m\u001b[0;34m,\u001b[0m\u001b[0mon\u001b[0m\u001b[0;34m=\u001b[0m\u001b[0;34m'Book-Title'\u001b[0m\u001b[0;34m)\u001b[0m\u001b[0;34m\u001b[0m\u001b[0;34m\u001b[0m\u001b[0m\n\u001b[0m\u001b[1;32m      2\u001b[0m \u001b[0mpopular_df\u001b[0m\u001b[0;34m\u001b[0m\u001b[0;34m\u001b[0m\u001b[0m\n",
            "\u001b[0;31mNameError\u001b[0m: name 'num_rating_df' is not defined"
          ]
        }
      ],
      "source": [
        "popular_df = num_rating_df.merge(avg_rating_df,on='Book-Title')\n",
        "popular_df"
      ]
    },
    {
      "cell_type": "code",
      "execution_count": null,
      "id": "96aeff99",
      "metadata": {
        "id": "96aeff99"
      },
      "outputs": [],
      "source": [
        "popular_df = popular_df[popular_df['num_ratings']>=250].sort_values('avg_rating',ascending=False).head(50)"
      ]
    },
    {
      "cell_type": "code",
      "execution_count": null,
      "id": "2aeb6c74",
      "metadata": {
        "id": "2aeb6c74"
      },
      "outputs": [],
      "source": [
        "popular_df = popular_df.merge(books,on='Book-Title').drop_duplicates('Book-Title')[['Book-Title','Book-Author','Image-URL-M','num_ratings','avg_rating']]"
      ]
    },
    {
      "cell_type": "code",
      "execution_count": null,
      "id": "b94cc12d",
      "metadata": {
        "scrolled": true,
        "id": "b94cc12d"
      },
      "outputs": [],
      "source": [
        "popular_df['Image-URL-M'][0]"
      ]
    },
    {
      "cell_type": "markdown",
      "id": "bd1b1056",
      "metadata": {
        "id": "bd1b1056"
      },
      "source": [
        "## Collaborative Filtering Based Recommender System"
      ]
    },
    {
      "cell_type": "code",
      "execution_count": null,
      "id": "8cadf2cc",
      "metadata": {
        "id": "8cadf2cc"
      },
      "outputs": [],
      "source": [
        "x = ratings_with_name.groupby('User-ID').count()['Book-Rating'] > 200\n",
        "padhe_likhe_users = x[x].index"
      ]
    },
    {
      "cell_type": "code",
      "execution_count": null,
      "id": "5a7bb823",
      "metadata": {
        "id": "5a7bb823"
      },
      "outputs": [],
      "source": [
        "filtered_rating = ratings_with_name[ratings_with_name['User-ID'].isin(padhe_likhe_users)]"
      ]
    },
    {
      "cell_type": "code",
      "execution_count": null,
      "id": "9b748d24",
      "metadata": {
        "id": "9b748d24"
      },
      "outputs": [],
      "source": [
        "y = filtered_rating.groupby('Book-Title').count()['Book-Rating']>=50\n",
        "famous_books = y[y].index"
      ]
    },
    {
      "cell_type": "code",
      "execution_count": null,
      "id": "4b4f5f7f",
      "metadata": {
        "id": "4b4f5f7f"
      },
      "outputs": [],
      "source": [
        "final_ratings = filtered_rating[filtered_rating['Book-Title'].isin(famous_books)]"
      ]
    },
    {
      "cell_type": "code",
      "execution_count": null,
      "id": "af1c6e92",
      "metadata": {
        "id": "af1c6e92"
      },
      "outputs": [],
      "source": [
        "pt = final_ratings.pivot_table(index='Book-Title',columns='User-ID',values='Book-Rating')"
      ]
    },
    {
      "cell_type": "code",
      "execution_count": null,
      "id": "d049e58f",
      "metadata": {
        "id": "d049e58f"
      },
      "outputs": [],
      "source": [
        "pt.fillna(0,inplace=True)"
      ]
    },
    {
      "cell_type": "code",
      "execution_count": null,
      "id": "8f01aaf1",
      "metadata": {
        "id": "8f01aaf1",
        "colab": {
          "base_uri": "https://localhost:8080/",
          "height": 141
        },
        "outputId": "5842ad9b-451f-4b66-8c38-31786b24db6e"
      },
      "outputs": [
        {
          "output_type": "error",
          "ename": "NameError",
          "evalue": "name 'pt' is not defined",
          "traceback": [
            "\u001b[0;31m---------------------------------------------------------------------------\u001b[0m",
            "\u001b[0;31mNameError\u001b[0m                                 Traceback (most recent call last)",
            "\u001b[0;32m<ipython-input-3-a4f7267174a2>\u001b[0m in \u001b[0;36m<cell line: 1>\u001b[0;34m()\u001b[0m\n\u001b[0;32m----> 1\u001b[0;31m \u001b[0mpt\u001b[0m\u001b[0;34m\u001b[0m\u001b[0;34m\u001b[0m\u001b[0m\n\u001b[0m",
            "\u001b[0;31mNameError\u001b[0m: name 'pt' is not defined"
          ]
        }
      ],
      "source": [
        "pt"
      ]
    },
    {
      "cell_type": "code",
      "execution_count": null,
      "id": "d92c3841",
      "metadata": {
        "id": "d92c3841"
      },
      "outputs": [],
      "source": [
        "from sklearn.metrics.pairwise import cosine_similarity"
      ]
    },
    {
      "cell_type": "code",
      "execution_count": null,
      "id": "141cdf48",
      "metadata": {
        "id": "141cdf48"
      },
      "outputs": [],
      "source": [
        "similarity_scores = cosine_similarity(pt)"
      ]
    },
    {
      "cell_type": "code",
      "execution_count": null,
      "id": "4df281a2",
      "metadata": {
        "id": "4df281a2"
      },
      "outputs": [],
      "source": [
        "similarity_scores.shape"
      ]
    },
    {
      "cell_type": "code",
      "execution_count": null,
      "id": "a9814230",
      "metadata": {
        "id": "a9814230"
      },
      "outputs": [],
      "source": [
        "import numpy as np\n",
        "\n",
        "def recommend(user_input, pt, similarity_scores, books):\n",
        "    try:\n",
        "        # Find the index of the user_input in the index of the dataframe\n",
        "        index = np.where(pt.index == user_input)[0][0]\n",
        "\n",
        "        # Find similar items based on the similarity scores\n",
        "        similar_items = sorted(list(enumerate(similarity_scores[index])), key=lambda x: x[1], reverse=True)[1:5]\n",
        "\n",
        "        # Prepare data for recommended items\n",
        "        data = []\n",
        "        for i in similar_items:\n",
        "            item = []\n",
        "            temp_df = books[books['Book-Title'] == pt.index[i[0]]]\n",
        "            item.extend(list(temp_df.drop_duplicates('Book-Title')['Book-Title'].values))\n",
        "            item.extend(list(temp_df.drop_duplicates('Book-Title')['Book-Author'].values))\n",
        "            item.extend(list(temp_df.drop_duplicates('Book-Title')['Image-URL-M'].values))\n",
        "            data.append(item)\n",
        "\n",
        "        return data\n",
        "    except IndexError:\n",
        "        # Handle the case when the user_input is not found in the index\n",
        "        return \"No recommendations available for the provided input.\"\n",
        "\n",
        "# Example usage:\n",
        "# Assuming pt, similarity_scores, and books are defined elsewhere in your code\n"
      ]
    },
    {
      "cell_type": "code",
      "source": [
        "user_input = input(\"enter book \")\n",
        "\n",
        "recommendations = recommend(user_input, pt, similarity_scores, books)\n",
        "print(recommendations)"
      ],
      "metadata": {
        "id": "9S4unCjio48F"
      },
      "id": "9S4unCjio48F",
      "execution_count": null,
      "outputs": []
    },
    {
      "cell_type": "code",
      "execution_count": null,
      "id": "a61f6934",
      "metadata": {
        "id": "a61f6934"
      },
      "outputs": [],
      "source": []
    },
    {
      "cell_type": "code",
      "execution_count": null,
      "id": "834d504f",
      "metadata": {
        "id": "834d504f"
      },
      "outputs": [],
      "source": [
        "pt.index[2]"
      ]
    },
    {
      "cell_type": "code",
      "execution_count": null,
      "id": "e87f6224",
      "metadata": {
        "id": "e87f6224"
      },
      "outputs": [],
      "source": [
        "import pickle\n",
        "pickle.dump(popular_df,open('popular.pkl','wb'))"
      ]
    },
    {
      "cell_type": "code",
      "execution_count": null,
      "id": "91e1cc2d",
      "metadata": {
        "id": "91e1cc2d"
      },
      "outputs": [],
      "source": [
        "books.drop_duplicates('Book-Title')"
      ]
    },
    {
      "cell_type": "code",
      "execution_count": null,
      "id": "e0b00559",
      "metadata": {
        "id": "e0b00559"
      },
      "outputs": [],
      "source": [
        "pickle.dump(pt,open('pt.pkl','wb'))\n",
        "pickle.dump(books,open('books.pkl','wb'))\n",
        "pickle.dump(similarity_scores,open('similarity_scores.pkl','wb'))"
      ]
    },
    {
      "cell_type": "code",
      "execution_count": null,
      "id": "82f09302",
      "metadata": {
        "id": "82f09302"
      },
      "outputs": [],
      "source": []
    }
  ],
  "metadata": {
    "kernelspec": {
      "display_name": "Python 3 (ipykernel)",
      "language": "python",
      "name": "python3"
    },
    "language_info": {
      "codemirror_mode": {
        "name": "ipython",
        "version": 3
      },
      "file_extension": ".py",
      "mimetype": "text/x-python",
      "name": "python",
      "nbconvert_exporter": "python",
      "pygments_lexer": "ipython3",
      "version": "3.9.7"
    },
    "colab": {
      "provenance": []
    }
  },
  "nbformat": 4,
  "nbformat_minor": 5
}